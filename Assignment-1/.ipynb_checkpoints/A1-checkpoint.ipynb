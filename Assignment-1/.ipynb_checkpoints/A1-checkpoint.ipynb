{
 "cells": [
  {
   "cell_type": "code",
   "execution_count": 45,
   "metadata": {},
   "outputs": [],
   "source": [
    "'''\n",
    "----------------------------------------------------------\n",
    "@Authors: \n",
    "[*] Kaustav Vats (kaustav16048@iiitd.ac.in), 2016048\n",
    "[*] Abhishek Agarwal (abhishek16126@iiitd.ac.in), 2016126\n",
    "----------------------------------------------------------\n",
    "'''\n",
    "import psycopg2\n",
    "import csv\n",
    "from tqdm import tqdm_notebook as tqdm\n",
    "import time"
   ]
  },
  {
   "cell_type": "markdown",
   "metadata": {},
   "source": [
    "### Load data and Store data"
   ]
  },
  {
   "cell_type": "code",
   "execution_count": 31,
   "metadata": {},
   "outputs": [],
   "source": [
    "Path = \"Data/\"\n",
    "FileName = \"ghtorrent-logs.txt\"\n",
    "def ReadData():\n",
    "    f = open(Path+FileName, 'r', encoding='utf8')\n",
    "    return PreProcess(f.readlines())\n",
    "\n",
    "def PreProcess(data):\n",
    "    D = []\n",
    "    for line in tqdm(data):\n",
    "        line = line.strip()\n",
    "        line = line.replace(\"ghtorrent-\", \"\")\n",
    "        line = line.replace(\" -- \", \", \")\n",
    "        line = line.replace(\".rb:\", \",\")\n",
    "        temp = line.split(\", \", 4)\n",
    "        \n",
    "        if temp[0] == 'E' or len(temp) != 5:\n",
    "            continue\n",
    "        \n",
    "        misc = temp[-1]\n",
    "        line = temp[:4]\n",
    "        \n",
    "        temp2 = []\n",
    "        if line[3] == 'api_client':\n",
    "            t_status = misc.split()[0]\n",
    "            temp2.append(t_status)\n",
    "            \n",
    "            if t_status == \"Successful\":\n",
    "                # Extracting URL\n",
    "                idx = misc.find(\"URL:\")\n",
    "                t_misc = misc[idx+5:]\n",
    "                t_url = t_misc.split(\"/\")[:6]\n",
    "                if t_url[-1].find(\"?\") != -1:\n",
    "                    t_url[-1] = t_url[-1].split(\"?\")[0]\n",
    "                t_url = \"/\".join(t_url)\n",
    "                \n",
    "                temp2.append(t_url.split(\",\")[0])\n",
    "                \n",
    "                temp2.append(\"NULL\")\n",
    "            elif t_status == \"Failed\":\n",
    "                # Extracting URL\n",
    "                idx = misc.find(\"URL:\")\n",
    "                t_misc = misc[idx+5:]\n",
    "                t_url = t_misc.split(\"/\")[:6]\n",
    "                if t_url[-1].find(\"?\") != -1:\n",
    "                    t_url[-1] = t_url[-1].split(\"?\")[0]\n",
    "                t_url = \"/\".join(t_url)\n",
    "                temp2.append(t_url.split(\",\")[0])\n",
    "                \n",
    "                # Extracting Access Key\n",
    "                idx = misc.find(\"Access:\")\n",
    "                t_misc = misc[idx+8:]\n",
    "                idx = t_misc.find(\",\")\n",
    "                temp2.append(t_misc[:idx])\n",
    "            \n",
    "            else:\n",
    "                temp2.append(\"NULL\")\n",
    "                temp2.append(\"NULL\")\n",
    "        \n",
    "        else:\n",
    "            # Request Status\n",
    "            temp2.append(\"NULL\")\n",
    "            \n",
    "            # Extracting URL\n",
    "            if misc.find(\"/\") != -1 and misc.find(\"User with email\") == -1:\n",
    "                t_misc = misc.split(\"/\")\n",
    "                if len(t_misc) > 3:\n",
    "                    temp2.append(\"NULL\")\n",
    "                else:\n",
    "                    left_misc, right_misc = t_misc[0].split()[-1], t_misc[1].split()[0]\n",
    "                    right_misc = right_misc.split(\"->\")[0].split(\" \")[0]\n",
    "                    temp2.append(\"https://api.github.com/repos/\"+left_misc+\"/\"+right_misc)\n",
    "\n",
    "            else:\n",
    "                temp2.append(\"NULL\")\n",
    "\n",
    "            # Extracting Access Key\n",
    "            temp2.append(\"NULL\")\n",
    "            \n",
    "        line = line+temp2\n",
    "        D.append(line)\n",
    "        \n",
    "    return D   "
   ]
  },
  {
   "cell_type": "code",
   "execution_count": 44,
   "metadata": {},
   "outputs": [
    {
     "data": {
      "application/vnd.jupyter.widget-view+json": {
       "model_id": "93cc99a7030b448f91a88aeb833590dc",
       "version_major": 2,
       "version_minor": 0
      },
      "text/plain": [
       "HBox(children=(IntProgress(value=0, max=9669788), HTML(value='')))"
      ]
     },
     "metadata": {},
     "output_type": "display_data"
    },
    {
     "name": "stdout",
     "output_type": "stream",
     "text": [
      "\n",
      "[['INFO', '2017-03-22T20:11:49+00:00', '31', 'ghtorrent', 'NULL', 'https://api.github.com/repos/tgstation/tgstation', 'NULL'], ['DEBUG', '2017-03-23T11:15:14+00:00', '30', 'retriever', 'NULL', 'https://api.github.com/repos/mzvast/FlappyFrog', 'NULL'], ['DEBUG', '2017-03-22T20:15:48+00:00', '35', 'ghtorrent', 'NULL', 'NULL', 'NULL'], ['DEBUG', '2017-03-24T12:29:50+00:00', '49', 'ghtorrent', 'NULL', 'NULL', 'NULL'], ['DEBUG', '2017-03-23T09:00:44+00:00', '8', 'retriever', 'NULL', 'https://api.github.com/repos/iamtheanon/d3', 'NULL']]\n"
     ]
    }
   ],
   "source": [
    "Data = ReadData()\n",
    "print(Data[:5])"
   ]
  },
  {
   "cell_type": "code",
   "execution_count": 4,
   "metadata": {},
   "outputs": [],
   "source": [
    "for line in Data:\n",
    "    if (len(line) != 7):\n",
    "        print(line)"
   ]
  },
  {
   "cell_type": "code",
   "execution_count": 14,
   "metadata": {},
   "outputs": [],
   "source": [
    "f = open(Path+'NewData.csv', 'w', newline='', encoding='utf8')\n",
    "writer = csv.writer(f)\n",
    "writer.writerows(Data)\n",
    "f.close()"
   ]
  },
  {
   "cell_type": "code",
   "execution_count": 6,
   "metadata": {},
   "outputs": [
    {
     "name": "stdout",
     "output_type": "stream",
     "text": [
      "{5, 7}\n",
      "[['INFO', '2017-03-22T20:11:49+00:00', '31', 'ghtorrent', 'NULL', 'https://api.github.com/repos/tgstation/tgstation', 'NULL'], ['DEBUG', '2017-03-23T11:15:14+00:00', '30', 'retriever', 'NULL', 'https://api.github.com/repos/mzvast/FlappyFrog', 'NULL'], ['DEBUG', '2017-03-22T20:15:48+00:00', '35', 'ghtorrent', 'NULL', 'NULL', 'NULL']]\n"
     ]
    }
   ],
   "source": [
    "size = []\n",
    "for d in Data:\n",
    "    size.append(len(d))\n",
    "    if (len(d) < 5):\n",
    "        print(d)\n",
    "size = set(size)\n",
    "print(size)\n",
    "print(Data[:3])"
   ]
  },
  {
   "cell_type": "code",
   "execution_count": 46,
   "metadata": {},
   "outputs": [],
   "source": [
    "DATABASE_NAME = \"assignment1\"\n",
    "USER = \"postgres\"\n",
    "PASSWORD = \"admin\"\n",
    "HOST_IP = \"127.0.0.1\"\n",
    "PORT = \"5432\""
   ]
  },
  {
   "cell_type": "code",
   "execution_count": 55,
   "metadata": {},
   "outputs": [],
   "source": [
    "conn = psycopg2.connect(database=DATABASE_NAME, user = USER, password = PASSWORD, host = HOST_IP, port = PORT)\n",
    "cur = conn.cursor()"
   ]
  },
  {
   "cell_type": "markdown",
   "metadata": {},
   "source": [
    "### Insert Data in Postgresql"
   ]
  },
  {
   "cell_type": "code",
   "execution_count": 47,
   "metadata": {},
   "outputs": [],
   "source": [
    "cur = conn.cursor()\n",
    "GHTORRENT = '''CREATE TABLE IF NOT EXISTS GHTORRENT_RECORDS\n",
    "       (LOGGING_LEVEL       TEXT    NOT NULL,\n",
    "        TIMESTAMP           TEXT    NOT NULL,\n",
    "        DOWNLOADER_ID       TEXT    NOT NULL,\n",
    "        RETRIEVAL_STAGE     TEXT    NOT NULL,\n",
    "        REQUEST_STATUS      TEXT    NOT NULL,\n",
    "        URL                 TEXT    NOT NULL,\n",
    "        ACCESS_KEY          TEXT    NOT NULL);'''\n",
    "cur.execute('''DROP TABLE IF EXISTS GHTORRENT_RECORDS;''')\n",
    "cur.execute(GHTORRENT)\n",
    "# temp = [['INFO', '2017-03-22T20:11:49+00:00', '31', 'ghtorrent', 'Added pullreq_commit 244eeac28bf419642d5d5c3b388bd2999c8c72e6 to tgstation/tgstation -> 25341'], ['DEBUG', '2017-03-23T11:15:14+00:00', '30', 'retriever', 'Commit mzvast/FlappyFrog -> 80bf5c5fde7be6274a2721422f4d9a773583f73c exists'], ['DEBUG', '2017-03-22T20:15:48+00:00', '35', 'ghtorrent', 'Parent af8451e16e077f7c6cae3f98bf43bffaca562f88 for commit 2ef393531a3cfbecc69f17d2cedcc95662fae1e6 exists']]\n",
    "sql = '''INSERT INTO GHTORRENT_RECORDS\n",
    "        (LOGGING_LEVEL, TIMESTAMP, DOWNLOADER_ID, RETRIEVAL_STAGE, REQUEST_STATUS, URL, ACCESS_KEY) \n",
    "        VALUES (%s, %s, %s, %s, %s, %s, %s);'''\n",
    "\n",
    "cur.executemany(sql, Data)\n",
    "conn.commit()\n",
    "# f = open(Path+'NewData.csv', 'r', encoding='utf8')\n",
    "# cur.copy_from(f, 'GHTORRENT', sep=\",\")\n",
    "# f.close()\n",
    "# conn.close()"
   ]
  },
  {
   "cell_type": "markdown",
   "metadata": {},
   "source": [
    "### How many records does the table contain?"
   ]
  },
  {
   "cell_type": "code",
   "execution_count": 16,
   "metadata": {},
   "outputs": [
    {
     "name": "stdout",
     "output_type": "stream",
     "text": [
      "How many records does the table contain? 9669634\n"
     ]
    }
   ],
   "source": [
    "query2 = \"SELECT COUNT(*) FROM GHTORRENT_RECORDS\"\n",
    "cur.execute(query2)\n",
    "num_records = cur.fetchall()\n",
    "print(\"How many records does the table contain?\", num_records[0][0])"
   ]
  },
  {
   "cell_type": "markdown",
   "metadata": {},
   "source": [
    "### Count the number of WARNing messages."
   ]
  },
  {
   "cell_type": "code",
   "execution_count": 5,
   "metadata": {},
   "outputs": [
    {
     "name": "stdout",
     "output_type": "stream",
     "text": [
      "Count the number of WARNing messages. 132158\n"
     ]
    }
   ],
   "source": [
    "query3 = \"SELECT COUNT(*) FROM GHTORRENT_RECORDS WHERE LOGGING_LEVEL='WARN';\"\n",
    "cur.execute(query3)\n",
    "rows = cur.fetchall()\n",
    "print(\"Count the number of WARNing messages.\", rows[0][0])"
   ]
  },
  {
   "cell_type": "markdown",
   "metadata": {},
   "source": [
    "### How many repositories were processed in total?"
   ]
  },
  {
   "cell_type": "code",
   "execution_count": 6,
   "metadata": {},
   "outputs": [
    {
     "name": "stdout",
     "output_type": "stream",
     "text": [
      "How many repositories were processed in total? 78369\n"
     ]
    }
   ],
   "source": [
    "# 78588\n",
    "query4 = '''SELECT COUNT(DISTINCT URL) \n",
    "               FROM GHTORRENT_RECORDS \n",
    "               WHERE RETRIEVAL_STAGE = 'api_client' AND URL != 'NULL';'''\n",
    "cur.execute(query4)\n",
    "rows = cur.fetchall()\n",
    "print(\"How many repositories were processed in total?\", rows[0][0])"
   ]
  },
  {
   "cell_type": "markdown",
   "metadata": {},
   "source": [
    "### Which 10 clients did the highest HTTP requests?"
   ]
  },
  {
   "cell_type": "code",
   "execution_count": 7,
   "metadata": {},
   "outputs": [
    {
     "name": "stdout",
     "output_type": "stream",
     "text": [
      "[(85528, '13'), (19046, '4'), (18948, '18'), (18926, '10'), (18911, '40'), (18616, '39'), (18614, '38'), (18604, '47'), (18463, '1'), (18452, '24')]\n"
     ]
    }
   ],
   "source": [
    "query5 = \"\"\"SELECT COUNT(RETRIEVAL_STAGE), DOWNLOADER_ID\n",
    "            FROM GHTORRENT_RECORDS \n",
    "            WHERE RETRIEVAL_STAGE='api_client' AND URL != 'NULL'\n",
    "            GROUP BY DOWNLOADER_ID\n",
    "            ORDER BY COUNT(RETRIEVAL_STAGE) DESC \n",
    "            LIMIT 10\"\"\"\n",
    "cur.execute(query5)\n",
    "rows = cur.fetchall()\n",
    "print(rows)"
   ]
  },
  {
   "cell_type": "markdown",
   "metadata": {},
   "source": [
    "### Which 10 client did the highest FAILED HTTP requests?"
   ]
  },
  {
   "cell_type": "code",
   "execution_count": 8,
   "metadata": {},
   "outputs": [
    {
     "name": "stdout",
     "output_type": "stream",
     "text": [
      "[(79623, '13'), (1378, '21'), (1134, '40'), (368, '18'), (357, '42'), (356, '9'), (352, '4'), (342, '25'), (333, '22'), (332, '6')]\n"
     ]
    }
   ],
   "source": [
    "# [(79623, '13'), (1378, '21'), (1134, '40'), (368, '18'), (357, '42'), (356, '9'), (352, '4'), (342, '25'), (333, '22'), (332, '6')]\n",
    "query6 = \"\"\"SELECT COUNT(RETRIEVAL_STAGE), DOWNLOADER_ID\n",
    "            FROM GHTORRENT_RECORDS \n",
    "            WHERE RETRIEVAL_STAGE='api_client' AND REQUEST_STATUS='Failed'\n",
    "            GROUP BY DOWNLOADER_ID\n",
    "            ORDER BY COUNT(RETRIEVAL_STAGE) DESC \n",
    "            LIMIT 10\"\"\"\n",
    "cur.execute(query6)\n",
    "rows = cur.fetchall()\n",
    "print(rows)"
   ]
  },
  {
   "cell_type": "markdown",
   "metadata": {},
   "source": [
    "### What is the most active hour of day?"
   ]
  },
  {
   "cell_type": "code",
   "execution_count": 9,
   "metadata": {},
   "outputs": [
    {
     "name": "stdout",
     "output_type": "stream",
     "text": [
      "[('10',)]\n"
     ]
    }
   ],
   "source": [
    "# [(2662487, '10')]\n",
    "query7 = \"\"\"\n",
    "            SELECT NEWT.TS\n",
    "            FROM (SELECT LOGGING_LEVEL, SUBSTRING(TIMESTAMP, 12, 2) AS TS, DOWNLOADER_ID, RETRIEVAL_STAGE, REQUEST_STATUS, URL, ACCESS_KEY\n",
    "                  FROM GHTORRENT_RECORDS) AS NEWT\n",
    "            GROUP BY NEWT.TS\n",
    "            ORDER BY COUNT(NEWT.TS) DESC\n",
    "            LIMIT 1\n",
    "            \"\"\"\n",
    "cur.execute(query7)\n",
    "rows = cur.fetchall()\n",
    "print(rows)"
   ]
  },
  {
   "cell_type": "markdown",
   "metadata": {},
   "source": [
    "### What is the most active repository?"
   ]
  },
  {
   "cell_type": "code",
   "execution_count": 17,
   "metadata": {},
   "outputs": [
    {
     "name": "stdout",
     "output_type": "stream",
     "text": [
      "[('https://api.github.com/repos/greatfakeman/Tabchi',)]\n"
     ]
    }
   ],
   "source": [
    "# [('https://api.github.com/repos/greatfakeman/Tabchi', 79539)]\n",
    "query8 = '''\n",
    "        SELECT  URL\n",
    "        FROM GHTORRENT_RECORDS\n",
    "        WHERE URL != 'NULL'\n",
    "        GROUP BY URL\n",
    "        ORDER BY COUNT(URL) DESC\n",
    "        LIMIT 1;\n",
    "        '''\n",
    "cur.execute(query8)\n",
    "rows = cur.fetchall()\n",
    "print(rows)"
   ]
  },
  {
   "cell_type": "markdown",
   "metadata": {},
   "source": [
    "### Which access keys are failing most often?"
   ]
  },
  {
   "cell_type": "code",
   "execution_count": 18,
   "metadata": {},
   "outputs": [
    {
     "name": "stdout",
     "output_type": "stream",
     "text": [
      "[('ac6168f8776', 79623), ('46f11b5791b', 1340), ('9115020fb01', 1134), ('c1240f63b5b', 371), ('2776f3ba0a5', 368)]\n"
     ]
    }
   ],
   "source": [
    "# [('ac6168f8776', 79623), ('46f11b5791b', 1340), ('9115020fb01', 1134), ('c1240f63b5b', 371), ('2776f3ba0a5', 368)]\n",
    "query9 = '''\n",
    "        SELECT  ACCESS_KEY, COUNT(ACCESS_KEY) AS key_count\n",
    "        FROM GHTORRENT_RECORDS\n",
    "        WHERE ACCESS_KEY != 'NULL'\n",
    "        GROUP BY ACCESS_KEY\n",
    "        ORDER BY key_count DESC\n",
    "        LIMIT 5;\n",
    "        '''\n",
    "cur.execute(query9)\n",
    "rows = cur.fetchall()\n",
    "print(rows)"
   ]
  },
  {
   "cell_type": "markdown",
   "metadata": {},
   "source": [
    "### Compute the number of different repositories accessed by the client ghtorrent-22 . Note the time taken by your query."
   ]
  },
  {
   "cell_type": "code",
   "execution_count": 25,
   "metadata": {},
   "outputs": [],
   "source": [
    "indexing = \"\"\"CREATE INDEX downloader_index ON GHTORRENT_RECORDS(DOWNLOADER_ID);\"\"\"\n",
    "cur.execute(indexing)\n",
    "conn.commit()"
   ]
  },
  {
   "cell_type": "code",
   "execution_count": 26,
   "metadata": {},
   "outputs": [
    {
     "name": "stdout",
     "output_type": "stream",
     "text": [
      "TimeTaken: 1.7686052322387695 ms\n",
      "4390\n"
     ]
    }
   ],
   "source": [
    "query10 = '''\n",
    "            SELECT COUNT(DISTINCT URL) \n",
    "            FROM GHTORRENT_RECORDS \n",
    "            WHERE DOWNLOADER_ID = '22' AND URL != 'NULL';\n",
    "            '''\n",
    "\n",
    "start_time = time.time()\n",
    "cur.execute(query10)\n",
    "end_time = time.time()\n",
    "\n",
    "rows = cur.fetchall()\n",
    "print(\"TimeTaken: {} ms\".format(end_time-start_time))\n",
    "print(rows[0][0])"
   ]
  },
  {
   "cell_type": "markdown",
   "metadata": {},
   "source": [
    "### Now drop your index and compute the number of different repositories accessed by the client ghtorrent-22. Note the time taken by your query now."
   ]
  },
  {
   "cell_type": "code",
   "execution_count": 27,
   "metadata": {},
   "outputs": [],
   "source": [
    "# drop_indexing = \"\"\"\n",
    "#                 ALTER TABLE GHTORRENT\n",
    "#                 DROP INDEX GHTORRENT(DOWNLOADER_ID).downloader_index;\"\"\"\n",
    "drop_indexing = '''DROP INDEX DOWNLOADER_INDEX ;'''\n",
    "cur.execute(drop_indexing)\n",
    "conn.commit()"
   ]
  },
  {
   "cell_type": "code",
   "execution_count": 28,
   "metadata": {},
   "outputs": [
    {
     "name": "stdout",
     "output_type": "stream",
     "text": [
      "TimeTaken: 2.5362191200256348 ms\n",
      "[(4390,)]\n"
     ]
    }
   ],
   "source": [
    "query11 = '''\n",
    "            SELECT COUNT(DISTINCT URL) \n",
    "            FROM GHTORRENT_RECORDS \n",
    "            WHERE DOWNLOADER_ID = '22' AND URL != 'NULL';\n",
    "            '''\n",
    "\n",
    "start_time = time.time()\n",
    "cur.execute(query11)\n",
    "end_time = time.time()\n",
    "\n",
    "rows = cur.fetchall()\n",
    "print(\"TimeTaken: {} ms\".format(end_time-start_time))\n",
    "print(rows)"
   ]
  },
  {
   "cell_type": "markdown",
   "metadata": {},
   "source": [
    "### Joining"
   ]
  },
  {
   "cell_type": "code",
   "execution_count": 38,
   "metadata": {},
   "outputs": [
    {
     "name": "stdout",
     "output_type": "stream",
     "text": [
      "No of Records: 1435\n"
     ]
    }
   ],
   "source": [
    "f = open(Path+\"important-repos.csv\", 'r', encoding='utf8')\n",
    "data2 = csv.reader(f)\n",
    "D2 = []\n",
    "for row in data2:\n",
    "    D2.append(row)\n",
    "D2.pop(0)\n",
    "print(\"No of Records:\", len(D2))"
   ]
  },
  {
   "cell_type": "code",
   "execution_count": 39,
   "metadata": {},
   "outputs": [
    {
     "name": "stdout",
     "output_type": "stream",
     "text": [
      "Opened database successfully\n"
     ]
    }
   ],
   "source": [
    "conn = psycopg2.connect(database=DATABASE_NAME, user = USER, password = PASSWORD, host = HOST_IP, port = PORT)\n",
    "print(\"Opened database successfully\")\n",
    "cur = conn.cursor()\n",
    "cur.execute('''DROP TABLE IF EXISTS IMPORTANT_REPOS;''')\n",
    "IMPORTANT_REPOS = '''CREATE TABLE IF NOT EXISTS IMPORTANT_REPOS\n",
    "       (ID          TEXT    NOT NULL,\n",
    "        URL         TEXT    NOT NULL,\n",
    "        OWNER_ID    TEXT    NOT NULL,\n",
    "        NAME        TEXT    NOT NULL,\n",
    "        LANGUAGE    TEXT    NOT NULL,\n",
    "        CREATED_AT  TEXT    NOT NULL,\n",
    "        FORKED_FROM TEXT    NOT NULL,\n",
    "        DELETED     TEXT    NOT NULL,\n",
    "        UPDATED_AT  TEXT    NOT NULL);'''\n",
    "# cur.execute('''DROP TABLE IMPORTANT_REPOS;''')\n",
    "cur.execute(IMPORTANT_REPOS)\n",
    "\n",
    "sql = '''INSERT INTO IMPORTANT_REPOS\n",
    "        (ID, URL, OWNER_ID, NAME, LANGUAGE, CREATED_AT, FORKED_FROM, DELETED, UPDATED_AT) \n",
    "        VALUES (%s, %s, %s, %s, %s, %s, %s, %s, %s);'''\n",
    "\n",
    "cur.executemany(sql, D2)\n",
    "conn.commit()"
   ]
  },
  {
   "cell_type": "markdown",
   "metadata": {},
   "source": [
    "### Read in the CSV file into another table call it interesting. How many records are there?"
   ]
  },
  {
   "cell_type": "code",
   "execution_count": 40,
   "metadata": {},
   "outputs": [
    {
     "name": "stdout",
     "output_type": "stream",
     "text": [
      "How many records does the IMPORTANT_REPOS table contain? [(1435,)]\n"
     ]
    }
   ],
   "source": [
    "\n",
    "cur.execute(\"SELECT COUNT(*) FROM IMPORTANT_REPOS\")\n",
    "rows = cur.fetchall()\n",
    "print(\"How many records does the IMPORTANT_REPOS table contain?\", rows)"
   ]
  },
  {
   "cell_type": "markdown",
   "metadata": {},
   "source": [
    "### How many records in the log file refer to entries in the interesting file?"
   ]
  },
  {
   "cell_type": "code",
   "execution_count": 52,
   "metadata": {},
   "outputs": [
    {
     "name": "stdout",
     "output_type": "stream",
     "text": [
      "How many records in the log file refer to entries in the interesting file? [(158348,)]\n"
     ]
    }
   ],
   "source": [
    "# cur = conn.cursor()\n",
    "query13 = '''\n",
    "            SELECT COUNT(ir.URL)\n",
    "            FROM GHTORRENT_RECORDS gt\n",
    "            INNER JOIN IMPORTANT_REPOS ir\n",
    "                ON gt.URL != 'NULL' AND gt.URL=ir.URL;\n",
    "            '''\n",
    "cur.execute(query13)\n",
    "rows = cur.fetchall()\n",
    "print(\"How many records in the log file refer to entries in the interesting file?\", rows)"
   ]
  },
  {
   "cell_type": "markdown",
   "metadata": {},
   "source": [
    "### Which of the interesting repositories has the most failed API calls?"
   ]
  },
  {
   "cell_type": "code",
   "execution_count": 57,
   "metadata": {},
   "outputs": [
    {
     "name": "stdout",
     "output_type": "stream",
     "text": [
      "Which of the interesting repositories has the most failed API calls? [('https://api.github.com/repos/asmagin/sitecore-foundation-codegeneration-composition', 5), ('https://api.github.com/repos/lorch1010/PanelProject', 3), ('https://api.github.com/repos/wireapp/wire-ios', 3), ('https://api.github.com/repos/biggerlion/LockTest', 2), ('https://api.github.com/repos/consoleerp/ctechnology_erpnext', 2)]\n"
     ]
    }
   ],
   "source": [
    "query14 = '''\n",
    "            SELECT ir.URL, COUNT(ir.URL)\n",
    "            FROM GHTORRENT_RECORDS gt\n",
    "            INNER JOIN IMPORTANT_REPOS ir\n",
    "            ON gt.URL != 'NULL' AND gt.URL=ir.URL AND gt.REQUEST_STATUS = 'Failed' \n",
    "            GROUP BY ir.URL\n",
    "            ORDER BY COUNT(ir.URL) DESC\n",
    "            LIMIT 5;\n",
    "            '''\n",
    "cur.execute(query14)\n",
    "rows = cur.fetchall()\n",
    "print(\"Which of the interesting repositories has the most failed API calls?\", rows)"
   ]
  },
  {
   "cell_type": "code",
   "execution_count": null,
   "metadata": {},
   "outputs": [],
   "source": []
  }
 ],
 "metadata": {
  "kernelspec": {
   "display_name": "Python 3",
   "language": "python",
   "name": "python3"
  },
  "language_info": {
   "codemirror_mode": {
    "name": "ipython",
    "version": 3
   },
   "file_extension": ".py",
   "mimetype": "text/x-python",
   "name": "python",
   "nbconvert_exporter": "python",
   "pygments_lexer": "ipython3",
   "version": "3.6.1"
  }
 },
 "nbformat": 4,
 "nbformat_minor": 2
}
