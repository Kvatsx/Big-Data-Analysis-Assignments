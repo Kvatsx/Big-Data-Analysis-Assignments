{
 "cells": [
  {
   "cell_type": "code",
   "execution_count": 9,
   "metadata": {},
   "outputs": [],
   "source": [
    "'''\n",
    "------------------------------------------------------\n",
    "@Author: Kaustav Vats (kaustav16048@iiitd.ac.in), Abhishek Agarwal ()\n",
    "@Roll-No: 2016048, 2016126\n",
    "------------------------------------------------------\n",
    "'''\n",
    "import psycopg2\n",
    "import csv"
   ]
  },
  {
   "cell_type": "markdown",
   "metadata": {},
   "source": [
    "### Load data and Store data"
   ]
  },
  {
   "cell_type": "code",
   "execution_count": 41,
   "metadata": {},
   "outputs": [],
   "source": [
    "Path = \"Data/\"\n",
    "FileName = \"ghtorrent-logs.txt\"\n",
    "def ReadData():\n",
    "    f = open(Path+FileName, 'r', encoding='utf8')\n",
    "    return PreProcess(f.readlines())\n",
    "\n",
    "def PreProcess(data):\n",
    "    D = []\n",
    "    for line in data:\n",
    "        line = line.strip()\n",
    "        line = line.replace(\"ghtorrent-\", \"\")\n",
    "        line = line.replace(\" -- \", \", \")\n",
    "        line = line.replace(\".rb:\", \",\")\n",
    "        line = line.split(\", \", 4)\n",
    "        if line[0] != 'E' and len(line) == 5:\n",
    "            D.append(line)\n",
    "    return D   "
   ]
  },
  {
   "cell_type": "code",
   "execution_count": 42,
   "metadata": {},
   "outputs": [
    {
     "name": "stdout",
     "output_type": "stream",
     "text": [
      "[['INFO', '2017-03-22T20:11:49+00:00', '31', 'ghtorrent', 'Added pullreq_commit 244eeac28bf419642d5d5c3b388bd2999c8c72e6 to tgstation/tgstation -> 25341'], ['DEBUG', '2017-03-23T11:15:14+00:00', '30', 'retriever', 'Commit mzvast/FlappyFrog -> 80bf5c5fde7be6274a2721422f4d9a773583f73c exists'], ['DEBUG', '2017-03-22T20:15:48+00:00', '35', 'ghtorrent', 'Parent af8451e16e077f7c6cae3f98bf43bffaca562f88 for commit 2ef393531a3cfbecc69f17d2cedcc95662fae1e6 exists'], ['DEBUG', '2017-03-24T12:29:50+00:00', '49', 'ghtorrent', 'Parent cf060bf3b789ac6391b2f7c1cdc34191c2bc773d for commit 8c924c1115e1abddcaddc27c6e7fd5806583ea90 exists'], ['DEBUG', '2017-03-23T09:00:44+00:00', '8', 'retriever', 'Commit iamtheanon/d3 -> a7caf9375fe14d7235562af541fe9decf499bbfb exists']]\n"
     ]
    }
   ],
   "source": [
    "Data = ReadData()\n",
    "print(Data[:5])"
   ]
  },
  {
   "cell_type": "code",
   "execution_count": 43,
   "metadata": {},
   "outputs": [],
   "source": [
    "f = open(Path+'NewData.csv', 'w', newline='', encoding='utf8')\n",
    "writer = csv.writer(f)\n",
    "writer.writerows(Data)\n",
    "f.close()"
   ]
  },
  {
   "cell_type": "code",
   "execution_count": 44,
   "metadata": {},
   "outputs": [
    {
     "name": "stdout",
     "output_type": "stream",
     "text": [
      "{5}\n",
      "[['INFO', '2017-03-22T20:11:49+00:00', '31', 'ghtorrent', 'Added pullreq_commit 244eeac28bf419642d5d5c3b388bd2999c8c72e6 to tgstation/tgstation -> 25341'], ['DEBUG', '2017-03-23T11:15:14+00:00', '30', 'retriever', 'Commit mzvast/FlappyFrog -> 80bf5c5fde7be6274a2721422f4d9a773583f73c exists'], ['DEBUG', '2017-03-22T20:15:48+00:00', '35', 'ghtorrent', 'Parent af8451e16e077f7c6cae3f98bf43bffaca562f88 for commit 2ef393531a3cfbecc69f17d2cedcc95662fae1e6 exists']]\n"
     ]
    }
   ],
   "source": [
    "size = []\n",
    "for d in Data:\n",
    "    size.append(len(d))\n",
    "    if (len(d) < 5):\n",
    "        print(d)\n",
    "size = set(size)\n",
    "print(size)\n",
    "print(Data[:3])"
   ]
  },
  {
   "cell_type": "markdown",
   "metadata": {},
   "source": [
    "### Insert Data in Postgresql"
   ]
  },
  {
   "cell_type": "code",
   "execution_count": 45,
   "metadata": {},
   "outputs": [
    {
     "name": "stdout",
     "output_type": "stream",
     "text": [
      "Opened database successfully\n"
     ]
    }
   ],
   "source": [
    "conn = psycopg2.connect(database=\"Assignment1\", user = \"postgres\", password = \"admin\", host = \"127.0.0.1\", port = \"5432\")\n",
    "print(\"Opened database successfully\")\n",
    "# ID                  INT     PRIMARY KEY     NOT NULL,\n",
    "cur = conn.cursor()\n",
    "GHTORRENT = '''CREATE TABLE IF NOT EXISTS GHTORRENT\n",
    "       (LOGGING_LEVEL       TEXT    NOT NULL,\n",
    "        TIMESTAMP           TEXT    NOT NULL,\n",
    "        DOWNLOADER_ID       TEXT    NOT NULL,\n",
    "        RETRIEVAL_STATUS    TEXT    NOT NULL,\n",
    "        OPERATION           TEXT    NOT NULL);'''\n",
    "cur.execute('''DROP TABLE GHTORRENT;''')\n",
    "cur.execute(GHTORRENT)\n",
    "# temp = [['INFO', '2017-03-22T20:11:49+00:00', '31', 'ghtorrent', 'Added pullreq_commit 244eeac28bf419642d5d5c3b388bd2999c8c72e6 to tgstation/tgstation -> 25341'], ['DEBUG', '2017-03-23T11:15:14+00:00', '30', 'retriever', 'Commit mzvast/FlappyFrog -> 80bf5c5fde7be6274a2721422f4d9a773583f73c exists'], ['DEBUG', '2017-03-22T20:15:48+00:00', '35', 'ghtorrent', 'Parent af8451e16e077f7c6cae3f98bf43bffaca562f88 for commit 2ef393531a3cfbecc69f17d2cedcc95662fae1e6 exists']]\n",
    "sql = '''INSERT INTO GHTORRENT\n",
    "        (LOGGING_LEVEL, TIMESTAMP, DOWNLOADER_ID, RETRIEVAL_STATUS, OPERATION) VALUES\n",
    "        (%s, %s, %s, %s, %s)'''\n",
    "\n",
    "cur.executemany(sql, Data)\n",
    "conn.commit()\n",
    "# f = open(Path+'NewData.csv', 'r', encoding='utf8')\n",
    "# cur.copy_from(f, 'GHTORRENT', sep=\",\")\n",
    "# f.close()\n",
    "# conn.close()"
   ]
  },
  {
   "cell_type": "markdown",
   "metadata": {},
   "source": [
    "### How many records does the table contain?"
   ]
  },
  {
   "cell_type": "code",
   "execution_count": 49,
   "metadata": {},
   "outputs": [
    {
     "name": "stdout",
     "output_type": "stream",
     "text": [
      "How many records does the table contain? 9669634\n"
     ]
    }
   ],
   "source": [
    "cur.execute(\"SELECT * FROM GHTORRENT\")\n",
    "rows = cur.fetchall()\n",
    "print(\"How many records does the table contain?\", len(rows))"
   ]
  },
  {
   "cell_type": "markdown",
   "metadata": {},
   "source": [
    "### Count the number of WARNing messages."
   ]
  },
  {
   "cell_type": "code",
   "execution_count": 50,
   "metadata": {},
   "outputs": [
    {
     "name": "stdout",
     "output_type": "stream",
     "text": [
      "Count the number of WARNing messages. 132158\n"
     ]
    }
   ],
   "source": [
    "cur.execute(\"SELECT * FROM GHTORRENT WHERE LOGGING_LEVEL='WARN'\")\n",
    "rows = cur.fetchall()\n",
    "print(\"Count the number of WARNing messages.\", len(rows))"
   ]
  },
  {
   "cell_type": "markdown",
   "metadata": {},
   "source": [
    "### How many repositories were processed in total?"
   ]
  },
  {
   "cell_type": "code",
   "execution_count": 53,
   "metadata": {},
   "outputs": [
    {
     "ename": "InFailedSqlTransaction",
     "evalue": "current transaction is aborted, commands ignored until end of transaction block\n",
     "output_type": "error",
     "traceback": [
      "\u001b[1;31m---------------------------------------------------------------------------\u001b[0m",
      "\u001b[1;31mInFailedSqlTransaction\u001b[0m                    Traceback (most recent call last)",
      "\u001b[1;32m<ipython-input-53-730b6fb2b474>\u001b[0m in \u001b[0;36m<module>\u001b[1;34m\u001b[0m\n\u001b[1;32m----> 1\u001b[1;33m \u001b[0mcur\u001b[0m\u001b[1;33m.\u001b[0m\u001b[0mexecute\u001b[0m\u001b[1;33m(\u001b[0m\u001b[1;34m\"SELECT * FROM GHTORRENT WHERE LOGGING_LEVEL='WARN' AND (OPERATION LIKE '%URL: https://api.github.com/repos/%')\"\u001b[0m\u001b[1;33m)\u001b[0m\u001b[1;33m\u001b[0m\u001b[1;33m\u001b[0m\u001b[0m\n\u001b[0m\u001b[0;32m      2\u001b[0m \u001b[0mrows\u001b[0m \u001b[1;33m=\u001b[0m \u001b[0mcur\u001b[0m\u001b[1;33m.\u001b[0m\u001b[0mfetchall\u001b[0m\u001b[1;33m(\u001b[0m\u001b[1;33m)\u001b[0m\u001b[1;33m\u001b[0m\u001b[1;33m\u001b[0m\u001b[0m\n\u001b[0;32m      3\u001b[0m \u001b[0mprint\u001b[0m\u001b[1;33m(\u001b[0m\u001b[1;34m\"How many repositories were processed in total?\"\u001b[0m\u001b[1;33m,\u001b[0m \u001b[0mlen\u001b[0m\u001b[1;33m(\u001b[0m\u001b[0mrows\u001b[0m\u001b[1;33m)\u001b[0m\u001b[1;33m)\u001b[0m\u001b[1;33m\u001b[0m\u001b[1;33m\u001b[0m\u001b[0m\n",
      "\u001b[1;31mInFailedSqlTransaction\u001b[0m: current transaction is aborted, commands ignored until end of transaction block\n"
     ]
    }
   ],
   "source": [
    "cur.execute('''SELECT * \n",
    "                FROM GHTORRENT \n",
    "                WHERE LOGGING_LEVEL='WARN' AND (OPERATION LIKE '%URL: https://api.github.com/repos/%')''')\n",
    "rows = cur.fetchall()\n",
    "print(\"How many repositories were processed in total?\", len(rows))"
   ]
  },
  {
   "cell_type": "code",
   "execution_count": null,
   "metadata": {},
   "outputs": [],
   "source": []
  }
 ],
 "metadata": {
  "kernelspec": {
   "display_name": "Python 3",
   "language": "python",
   "name": "python3"
  },
  "language_info": {
   "codemirror_mode": {
    "name": "ipython",
    "version": 3
   },
   "file_extension": ".py",
   "mimetype": "text/x-python",
   "name": "python",
   "nbconvert_exporter": "python",
   "pygments_lexer": "ipython3",
   "version": "3.7.3"
  }
 },
 "nbformat": 4,
 "nbformat_minor": 2
}
