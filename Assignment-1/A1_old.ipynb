{
 "cells": [
  {
   "cell_type": "code",
   "execution_count": 1,
   "metadata": {},
   "outputs": [],
   "source": [
    "'''\n",
    "----------------------------------------------------------\n",
    "@Authors: \n",
    "[*] Kaustav Vats (kaustav16048@iiitd.ac.in), 2016048\n",
    "[*] Abhishek Agarwal (abhishek16126@iiitd.ac.in), 2016126\n",
    "----------------------------------------------------------\n",
    "'''\n",
    "import psycopg2\n",
    "import csv\n",
    "from tqdm import tqdm_notebook as tqdm\n",
    "import time"
   ]
  },
  {
   "cell_type": "markdown",
   "metadata": {},
   "source": [
    "### Load data and Store data"
   ]
  },
  {
   "cell_type": "code",
   "execution_count": 2,
   "metadata": {},
   "outputs": [],
   "source": [
    "Path = \"Data/\"\n",
    "FileName = \"ghtorrent-logs.txt\"\n",
    "def ReadData():\n",
    "    f = open(Path+FileName, 'r', encoding='utf8')\n",
    "    return PreProcess(f.readlines())\n",
    "\n",
    "def PreProcess(data):\n",
    "    D = []\n",
    "    for line in tqdm(data):\n",
    "        line = line.strip()\n",
    "        line = line.replace(\"ghtorrent-\", \"\")\n",
    "        line = line.replace(\" -- \", \", \")\n",
    "        line = line.replace(\".rb:\", \",\")\n",
    "        temp = line.split(\", \", 4)\n",
    "        \n",
    "        if temp[0] == 'E' or len(temp) != 5:\n",
    "            continue\n",
    "        \n",
    "        misc = temp[-1]\n",
    "        line = temp[:4]\n",
    "        \n",
    "        temp2 = []\n",
    "        if line[3] == 'api_client':\n",
    "            t_status = misc.split()[0]\n",
    "            temp2.append(t_status)\n",
    "            \n",
    "            if t_status == \"Successful\":\n",
    "                # Extracting URL\n",
    "                idx = misc.find(\"URL:\")\n",
    "                t_misc = misc[idx+5:]\n",
    "                t_url = t_misc.split(\"/\")[:6]\n",
    "                if t_url[-1].find(\"?\") != -1:\n",
    "                    t_url[-1] = t_url[-1].split(\"?\")[0]\n",
    "                t_url = \"/\".join(t_url)\n",
    "                temp2.append(t_url)\n",
    "                \n",
    "                temp2.append(\"NULL\")\n",
    "            elif t_status == \"Failed\":\n",
    "                # Extracting URL\n",
    "                idx = misc.find(\"URL:\")\n",
    "                t_misc = misc[idx+5:]\n",
    "                t_url = t_misc.split(\"/\")[:6]\n",
    "                if t_url[-1].find(\"?\") != -1:\n",
    "                    t_url[-1] = t_url[-1].split(\"?\")[0]\n",
    "                t_url = \"/\".join(t_url)\n",
    "                temp2.append(t_url)\n",
    "                \n",
    "                # Extracting Access Key\n",
    "                idx = misc.find(\"Access:\")\n",
    "                t_misc = misc[idx+8:]\n",
    "                idx = t_misc.find(\",\")\n",
    "                temp2.append(t_misc[:idx])\n",
    "            \n",
    "            else:\n",
    "                temp2.append(\"NULL\")\n",
    "                temp2.append(\"NULL\")\n",
    "        \n",
    "        else:\n",
    "            # Request Status\n",
    "            temp2.append(\"NULL\")\n",
    "            \n",
    "            # Extracting URL\n",
    "            if misc.find(\"/\") != -1 and misc.find(\"User with email\") == -1:\n",
    "                t_misc = misc.split(\"/\")\n",
    "                if len(t_misc) > 3:\n",
    "                    temp2.append(\"NULL\")\n",
    "                else:\n",
    "                    left_misc, right_misc = t_misc[0].split()[-1], t_misc[1].split()[0]\n",
    "                    right_misc = right_misc.split(\"->\")[0].split(\" \")[0]\n",
    "                    temp2.append(\"https://api.github.com/repos/\"+left_misc+\"/\"+right_misc)\n",
    "\n",
    "            else:\n",
    "                temp2.append(\"NULL\")\n",
    "\n",
    "            # Extracting Access Key\n",
    "            temp2.append(\"NULL\")\n",
    "            \n",
    "        line = line+temp2\n",
    "        D.append(line)\n",
    "        \n",
    "    return D   "
   ]
  },
  {
   "cell_type": "code",
   "execution_count": 12,
   "metadata": {},
   "outputs": [
    {
     "name": "stderr",
     "output_type": "stream",
     "text": [
      "C:\\Users\\Kvats\\Anaconda3\\lib\\site-packages\\ipykernel_launcher.py:9: TqdmDeprecationWarning: This function will be removed in tqdm==5.0.0\n",
      "Please use `tqdm.notebook.tqdm` instead of `tqdm.tqdm_notebook`\n",
      "  if __name__ == '__main__':\n"
     ]
    },
    {
     "data": {
      "application/vnd.jupyter.widget-view+json": {
       "model_id": "680e11eb97924e1583f5ced1e7df0f98",
       "version_major": 2,
       "version_minor": 0
      },
      "text/plain": [
       "HBox(children=(IntProgress(value=0, max=9669787), HTML(value='')))"
      ]
     },
     "metadata": {},
     "output_type": "display_data"
    },
    {
     "name": "stdout",
     "output_type": "stream",
     "text": [
      "\n",
      "[['INFO', '2017-03-22T20:11:49+00:00', '31', 'ghtorrent', 'NULL', 'https://api.github.com/repos/tgstation/tgstation', 'NULL'], ['DEBUG', '2017-03-23T11:15:14+00:00', '30', 'retriever', 'NULL', 'https://api.github.com/repos/mzvast/FlappyFrog', 'NULL'], ['DEBUG', '2017-03-22T20:15:48+00:00', '35', 'ghtorrent', 'NULL', 'NULL', 'NULL'], ['DEBUG', '2017-03-24T12:29:50+00:00', '49', 'ghtorrent', 'NULL', 'NULL', 'NULL'], ['DEBUG', '2017-03-23T09:00:44+00:00', '8', 'retriever', 'NULL', 'https://api.github.com/repos/iamtheanon/d3', 'NULL']]\n"
     ]
    }
   ],
   "source": [
    "Data = ReadData()\n",
    "print(Data[:5])"
   ]
  },
  {
   "cell_type": "code",
   "execution_count": 13,
   "metadata": {},
   "outputs": [],
   "source": [
    "for line in Data:\n",
    "    if (len(line) != 7):\n",
    "        print(line)"
   ]
  },
  {
   "cell_type": "code",
   "execution_count": 14,
   "metadata": {},
   "outputs": [],
   "source": [
    "f = open(Path+'NewData.csv', 'w', newline='', encoding='utf8')\n",
    "writer = csv.writer(f)\n",
    "writer.writerows(Data)\n",
    "f.close()"
   ]
  },
  {
   "cell_type": "code",
   "execution_count": 6,
   "metadata": {},
   "outputs": [
    {
     "name": "stdout",
     "output_type": "stream",
     "text": [
      "{5, 7}\n",
      "[['INFO', '2017-03-22T20:11:49+00:00', '31', 'ghtorrent', 'NULL', 'https://api.github.com/repos/tgstation/tgstation', 'NULL'], ['DEBUG', '2017-03-23T11:15:14+00:00', '30', 'retriever', 'NULL', 'https://api.github.com/repos/mzvast/FlappyFrog', 'NULL'], ['DEBUG', '2017-03-22T20:15:48+00:00', '35', 'ghtorrent', 'NULL', 'NULL', 'NULL']]\n"
     ]
    }
   ],
   "source": [
    "size = []\n",
    "for d in Data:\n",
    "    size.append(len(d))\n",
    "    if (len(d) < 5):\n",
    "        print(d)\n",
    "size = set(size)\n",
    "print(size)\n",
    "print(Data[:3])"
   ]
  },
  {
   "cell_type": "code",
   "execution_count": 17,
   "metadata": {},
   "outputs": [],
   "source": [
    "conn = psycopg2.connect(database=\"Assignment1\", user = \"postgres\", password = \"admin\", host = \"127.0.0.1\", port = \"5432\")\n",
    "cur = conn.cursor()"
   ]
  },
  {
   "cell_type": "markdown",
   "metadata": {},
   "source": [
    "### Insert Data in Postgresql"
   ]
  },
  {
   "cell_type": "code",
   "execution_count": 15,
   "metadata": {},
   "outputs": [
    {
     "name": "stdout",
     "output_type": "stream",
     "text": [
      "Opened database successfully\n"
     ]
    }
   ],
   "source": [
    "conn = psycopg2.connect(database=\"Assignment1\", user = \"postgres\", password = \"admin\", host = \"127.0.0.1\", port = \"5432\")\n",
    "print(\"Opened database successfully\")\n",
    "cur = conn.cursor()\n",
    "GHTORRENT = '''CREATE TABLE IF NOT EXISTS GHTORRENT\n",
    "       (LOGGING_LEVEL       TEXT    NOT NULL,\n",
    "        TIMESTAMP           TEXT    NOT NULL,\n",
    "        DOWNLOADER_ID       TEXT    NOT NULL,\n",
    "        RETRIEVAL_STAGE     TEXT    NOT NULL,\n",
    "        REQUEST_STATUS      TEXT    NOT NULL,\n",
    "        URL                 TEXT    NOT NULL,\n",
    "        ACCESS_KEY          TEXT    NOT NULL);'''\n",
    "cur.execute('''DROP TABLE GHTORRENT;''')\n",
    "cur.execute(GHTORRENT)\n",
    "# temp = [['INFO', '2017-03-22T20:11:49+00:00', '31', 'ghtorrent', 'Added pullreq_commit 244eeac28bf419642d5d5c3b388bd2999c8c72e6 to tgstation/tgstation -> 25341'], ['DEBUG', '2017-03-23T11:15:14+00:00', '30', 'retriever', 'Commit mzvast/FlappyFrog -> 80bf5c5fde7be6274a2721422f4d9a773583f73c exists'], ['DEBUG', '2017-03-22T20:15:48+00:00', '35', 'ghtorrent', 'Parent af8451e16e077f7c6cae3f98bf43bffaca562f88 for commit 2ef393531a3cfbecc69f17d2cedcc95662fae1e6 exists']]\n",
    "sql = '''INSERT INTO GHTORRENT\n",
    "        (LOGGING_LEVEL, TIMESTAMP, DOWNLOADER_ID, RETRIEVAL_STAGE, REQUEST_STATUS, URL, ACCESS_KEY) \n",
    "        VALUES (%s, %s, %s, %s, %s, %s, %s);'''\n",
    "\n",
    "cur.executemany(sql, Data)\n",
    "conn.commit()\n",
    "# f = open(Path+'NewData.csv', 'r', encoding='utf8')\n",
    "# cur.copy_from(f, 'GHTORRENT', sep=\",\")\n",
    "# f.close()\n",
    "# conn.close()"
   ]
  },
  {
   "cell_type": "markdown",
   "metadata": {},
   "source": [
    "### How many records does the table contain?"
   ]
  },
  {
   "cell_type": "code",
   "execution_count": 5,
   "metadata": {},
   "outputs": [
    {
     "name": "stdout",
     "output_type": "stream",
     "text": [
      "How many records does the table contain? 9669634\n"
     ]
    }
   ],
   "source": [
    "cur.execute(\"SELECT * FROM GHTORRENT\")\n",
    "rows = cur.fetchall()\n",
    "print(\"How many records does the table contain?\", len(rows))"
   ]
  },
  {
   "cell_type": "markdown",
   "metadata": {},
   "source": [
    "### Count the number of WARNing messages."
   ]
  },
  {
   "cell_type": "code",
   "execution_count": 17,
   "metadata": {},
   "outputs": [
    {
     "name": "stdout",
     "output_type": "stream",
     "text": [
      "Count the number of WARNing messages. 132158\n"
     ]
    }
   ],
   "source": [
    "cur.execute(\"SELECT * FROM GHTORRENT WHERE LOGGING_LEVEL='WARN';\")\n",
    "rows = cur.fetchall()\n",
    "print(\"Count the number of WARNing messages.\", len(rows))"
   ]
  },
  {
   "cell_type": "markdown",
   "metadata": {},
   "source": [
    "### How many repositories were processed in total?"
   ]
  },
  {
   "cell_type": "code",
   "execution_count": 21,
   "metadata": {},
   "outputs": [
    {
     "name": "stdout",
     "output_type": "stream",
     "text": [
      "How many repositories were processed in total? 78588\n"
     ]
    }
   ],
   "source": [
    "query4 = '''SELECT DISTINCT URL \n",
    "               FROM GHTORRENT \n",
    "               WHERE RETRIEVAL_STAGE = 'api_client' AND URL != 'NULL';'''\n",
    "cur.execute(query4)\n",
    "rows = cur.fetchall()\n",
    "print(\"How many repositories were processed in total?\", len(rows))"
   ]
  },
  {
   "cell_type": "code",
   "execution_count": 25,
   "metadata": {},
   "outputs": [
    {
     "name": "stdout",
     "output_type": "stream",
     "text": [
      "[(85528, '13'), (19046, '4'), (18948, '18'), (18926, '10'), (18911, '40'), (18616, '39'), (18614, '38'), (18604, '47'), (18463, '1'), (18452, '24')]\n"
     ]
    }
   ],
   "source": [
    "query5 = \"\"\"SELECT COUNT(RETRIEVAL_STAGE), DOWNLOADER_ID\n",
    "            FROM GHTORRENT \n",
    "            WHERE RETRIEVAL_STAGE='api_client' AND URL != 'NULL'\n",
    "            GROUP BY DOWNLOADER_ID\n",
    "            ORDER BY COUNT(RETRIEVAL_STAGE) DESC \n",
    "            LIMIT 10\"\"\"\n",
    "cur.execute(query5)\n",
    "rows = cur.fetchall()\n",
    "print(rows)"
   ]
  },
  {
   "cell_type": "code",
   "execution_count": 31,
   "metadata": {},
   "outputs": [
    {
     "name": "stdout",
     "output_type": "stream",
     "text": [
      "[(79623, '13'), (1378, '21'), (1134, '40'), (368, '18'), (357, '42'), (356, '9'), (352, '4'), (342, '25'), (333, '22'), (332, '6')]\n"
     ]
    }
   ],
   "source": [
    "query6 = \"\"\"SELECT COUNT(RETRIEVAL_STAGE), DOWNLOADER_ID\n",
    "            FROM GHTORRENT \n",
    "            WHERE RETRIEVAL_STAGE='api_client' AND REQUEST_STATUS='Failed'\n",
    "            GROUP BY DOWNLOADER_ID\n",
    "            ORDER BY COUNT(RETRIEVAL_STAGE) DESC \n",
    "            LIMIT 10\"\"\"\n",
    "cur.execute(query6)\n",
    "rows = cur.fetchall()\n",
    "print(rows)"
   ]
  },
  {
   "cell_type": "code",
   "execution_count": 36,
   "metadata": {},
   "outputs": [
    {
     "name": "stdout",
     "output_type": "stream",
     "text": [
      "[(2662487, '10')]\n"
     ]
    }
   ],
   "source": [
    "query7 = \"\"\"\n",
    "            SELECT COUNT(NEWT.TS), NEWT.TS\n",
    "            FROM (SELECT LOGGING_LEVEL, SUBSTRING(TIMESTAMP, 12, 2) AS TS, DOWNLOADER_ID, RETRIEVAL_STAGE, REQUEST_STATUS, URL, ACCESS_KEY\n",
    "                  FROM GHTORRENT) AS NEWT\n",
    "            GROUP BY NEWT.TS\n",
    "            ORDER BY COUNT(NEWT.TS) DESC\n",
    "            LIMIT 1\n",
    "            \"\"\"\n",
    "cur.execute(query7)\n",
    "rows = cur.fetchall()\n",
    "print(rows)"
   ]
  },
  {
   "cell_type": "code",
   "execution_count": 37,
   "metadata": {},
   "outputs": [
    {
     "name": "stdout",
     "output_type": "stream",
     "text": [
      "[('https://api.github.com/repos/greatfakeman/Tabchi', 79539)]\n"
     ]
    }
   ],
   "source": [
    "query8 = '''\n",
    "        SELECT  URL, COUNT(URL) AS url_count \n",
    "        FROM GHTORRENT\n",
    "        WHERE URL != 'NULL'\n",
    "        GROUP BY URL\n",
    "        ORDER BY url_count DESC\n",
    "        LIMIT 1;\n",
    "        '''\n",
    "cur.execute(query8)\n",
    "rows = cur.fetchall()\n",
    "print(rows)"
   ]
  },
  {
   "cell_type": "code",
   "execution_count": 48,
   "metadata": {},
   "outputs": [
    {
     "name": "stdout",
     "output_type": "stream",
     "text": [
      "[('ac6168f8776', 79623), ('46f11b5791b', 1340), ('9115020fb01', 1134), ('c1240f63b5b', 371), ('2776f3ba0a5', 368)]\n"
     ]
    }
   ],
   "source": [
    "query9 = '''\n",
    "        SELECT  ACCESS_KEY, COUNT(ACCESS_KEY) AS key_count\n",
    "        FROM GHTORRENT\n",
    "        WHERE ACCESS_KEY != 'NULL'\n",
    "        GROUP BY ACCESS_KEY\n",
    "        ORDER BY key_count DESC\n",
    "        LIMIT 5;\n",
    "        '''\n",
    "cur.execute(query9)\n",
    "rows = cur.fetchall()\n",
    "print(rows)"
   ]
  },
  {
   "cell_type": "code",
   "execution_count": 49,
   "metadata": {},
   "outputs": [],
   "source": [
    "indexing = \"\"\"CREATE INDEX downloader_index ON GHTORRENT(DOWNLOADER_ID);\"\"\"\n",
    "cur.execute(indexing)"
   ]
  },
  {
   "cell_type": "code",
   "execution_count": 55,
   "metadata": {},
   "outputs": [
    {
     "name": "stdout",
     "output_type": "stream",
     "text": [
      "TimeTaken: 2.474989652633667 ms\n",
      "4394\n"
     ]
    }
   ],
   "source": [
    "query10 = '''\n",
    "            SELECT DISTINCT URL \n",
    "            FROM GHTORRENT \n",
    "            WHERE DOWNLOADER_ID = '22' AND URL != 'NULL';\n",
    "            '''\n",
    "\n",
    "start_time = time.time()\n",
    "cur.execute(query10)\n",
    "end_time = time.time()\n",
    "\n",
    "rows = cur.fetchall()\n",
    "print(\"TimeTaken: {} ms\".format(end_time-start_time))\n",
    "print(len(rows))"
   ]
  },
  {
   "cell_type": "code",
   "execution_count": 75,
   "metadata": {},
   "outputs": [
    {
     "ename": "UndefinedObject",
     "evalue": "index \"downloader_index\" does not exist\n",
     "output_type": "error",
     "traceback": [
      "\u001b[1;31m---------------------------------------------------------------------------\u001b[0m",
      "\u001b[1;31mUndefinedObject\u001b[0m                           Traceback (most recent call last)",
      "\u001b[1;32m<ipython-input-75-ed3a9c63c0b9>\u001b[0m in \u001b[0;36m<module>\u001b[1;34m\u001b[0m\n\u001b[0;32m      3\u001b[0m \u001b[1;31m#                 DROP INDEX GHTORRENT(DOWNLOADER_ID).downloader_index;\"\"\"\u001b[0m\u001b[1;33m\u001b[0m\u001b[1;33m\u001b[0m\u001b[1;33m\u001b[0m\u001b[0m\n\u001b[0;32m      4\u001b[0m \u001b[0mdrop_indexing\u001b[0m \u001b[1;33m=\u001b[0m \u001b[1;34m'''DROP INDEX downloader_index;'''\u001b[0m\u001b[1;33m\u001b[0m\u001b[1;33m\u001b[0m\u001b[0m\n\u001b[1;32m----> 5\u001b[1;33m \u001b[0mcur\u001b[0m\u001b[1;33m.\u001b[0m\u001b[0mexecute\u001b[0m\u001b[1;33m(\u001b[0m\u001b[0mdrop_indexing\u001b[0m\u001b[1;33m)\u001b[0m\u001b[1;33m\u001b[0m\u001b[1;33m\u001b[0m\u001b[0m\n\u001b[0m",
      "\u001b[1;31mUndefinedObject\u001b[0m: index \"downloader_index\" does not exist\n"
     ]
    }
   ],
   "source": [
    "# drop_indexing = \"\"\"\n",
    "#                 ALTER TABLE GHTORRENT\n",
    "#                 DROP INDEX GHTORRENT(DOWNLOADER_ID).downloader_index;\"\"\"\n",
    "drop_indexing = '''DROP INDEX downloader_index;'''\n",
    "cur.execute(drop_indexing)"
   ]
  },
  {
   "cell_type": "code",
   "execution_count": null,
   "metadata": {},
   "outputs": [],
   "source": []
  },
  {
   "cell_type": "markdown",
   "metadata": {},
   "source": [
    "### Joining"
   ]
  },
  {
   "cell_type": "code",
   "execution_count": 13,
   "metadata": {},
   "outputs": [
    {
     "name": "stdout",
     "output_type": "stream",
     "text": [
      "No of Records: 1435\n"
     ]
    }
   ],
   "source": [
    "f = open(Path+\"important-repos.csv\", 'r', encoding='utf8')\n",
    "data2 = csv.reader(f)\n",
    "D2 = []\n",
    "for row in data2:\n",
    "    D2.append(row)\n",
    "D2.pop(0)\n",
    "print(\"No of Records:\", len(D2))"
   ]
  },
  {
   "cell_type": "code",
   "execution_count": 16,
   "metadata": {},
   "outputs": [
    {
     "name": "stdout",
     "output_type": "stream",
     "text": [
      "Opened database successfully\n"
     ]
    }
   ],
   "source": [
    "conn = psycopg2.connect(database=\"Assignment1\", user = \"postgres\", password = \"admin\", host = \"127.0.0.1\", port = \"5432\")\n",
    "print(\"Opened database successfully\")\n",
    "cur = conn.cursor()\n",
    "IMPORTANT_REPOS = '''CREATE TABLE IF NOT EXISTS IMPORTANT_REPOS\n",
    "       (ID          TEXT    NOT NULL,\n",
    "        URL         TEXT    NOT NULL,\n",
    "        OWNER_ID    TEXT    NOT NULL,\n",
    "        NAME        TEXT    NOT NULL,\n",
    "        LANGUAGE    TEXT    NOT NULL,\n",
    "        CREATED_AT  TEXT    NOT NULL,\n",
    "        FORKED_FROM TEXT    NOT NULL,\n",
    "        DELETED     TEXT    NOT NULL,\n",
    "        UPDATED_AT  TEXT    NOT NULL);'''\n",
    "# cur.execute('''DROP TABLE IMPORTANT_REPOS;''')\n",
    "cur.execute(IMPORTANT_REPOS)\n",
    "\n",
    "sql = '''INSERT INTO IMPORTANT_REPOS\n",
    "        (ID, URL, OWNER_ID, NAME, LANGUAGE, CREATED_AT, FORKED_FROM, DELETED, UPDATED_AT) \n",
    "        VALUES (%s, %s, %s, %s, %s, %s, %s, %s, %s);'''\n",
    "\n",
    "cur.executemany(sql, D2)\n",
    "conn.commit()"
   ]
  },
  {
   "cell_type": "code",
   "execution_count": 4,
   "metadata": {},
   "outputs": [
    {
     "name": "stdout",
     "output_type": "stream",
     "text": [
      "How many records does the IMPORTANT_REPOS table contain? 1435\n"
     ]
    }
   ],
   "source": [
    "cur.execute(\"SELECT * FROM IMPORTANT_REPOS\")\n",
    "rows = cur.fetchall()\n",
    "print(\"How many records does the IMPORTANT_REPOS table contain?\", len(rows))"
   ]
  },
  {
   "cell_type": "code",
   "execution_count": 20,
   "metadata": {},
   "outputs": [
    {
     "name": "stdout",
     "output_type": "stream",
     "text": [
      "How many records in the log file refer to entries in the interesting file? 158346\n"
     ]
    }
   ],
   "source": [
    "query13 = '''\n",
    "            SELECT gt.REQUEST_STATUS, ir.URL\n",
    "            FROM GHTORRENT gt\n",
    "            INNER JOIN IMPORTANT_REPOS ir\n",
    "                ON gt.URL != 'NULL' AND gt.URL=ir.URL;\n",
    "            '''\n",
    "cur.execute(query13)\n",
    "rows = cur.fetchall()\n",
    "print(\"How many records in the log file refer to entries in the interesting file?\", len(rows))"
   ]
  },
  {
   "cell_type": "code",
   "execution_count": 19,
   "metadata": {},
   "outputs": [
    {
     "name": "stdout",
     "output_type": "stream",
     "text": [
      "Which of the interesting repositories has the most failed API calls? 92\n"
     ]
    }
   ],
   "source": [
    "query14 = '''\n",
    "            SELECT gt.REQUEST_STATUS, ir.URL\n",
    "            FROM GHTORRENT gt\n",
    "            INNER JOIN IMPORTANT_REPOS ir\n",
    "                ON gt.URL != 'NULL' AND gt.URL=ir.URL AND gt.REQUEST_STATUS = 'Failed';\n",
    "            '''\n",
    "cur.execute(query14)\n",
    "rows = cur.fetchall()\n",
    "print(\"Which of the interesting repositories has the most failed API calls?\", len(rows))"
   ]
  },
  {
   "cell_type": "code",
   "execution_count": null,
   "metadata": {},
   "outputs": [],
   "source": []
  }
 ],
 "metadata": {
  "kernelspec": {
   "display_name": "Python 3",
   "language": "python",
   "name": "python3"
  },
  "language_info": {
   "codemirror_mode": {
    "name": "ipython",
    "version": 3
   },
   "file_extension": ".py",
   "mimetype": "text/x-python",
   "name": "python",
   "nbconvert_exporter": "python",
   "pygments_lexer": "ipython3",
   "version": "3.7.3"
  }
 },
 "nbformat": 4,
 "nbformat_minor": 2
}
