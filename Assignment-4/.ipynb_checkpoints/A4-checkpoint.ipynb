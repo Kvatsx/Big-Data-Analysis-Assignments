{
 "cells": [
  {
   "cell_type": "code",
   "execution_count": 1,
   "metadata": {},
   "outputs": [],
   "source": [
    "import os\n",
    "# pyspark --packages graphframes:graphframes:0.3.0-spark2.0-s_2.11 --jars graphframes-0.3.0-spark2.0-s_2.11.jar\n",
    "pyspark_submit_args = '--packages graphframes:graphframes-0.8.0-spark3.0-s_2.12 pyspark-shell'# --jars graphframes-0.8.0-spark3.0-s_2.12.jar'\n",
    "pyspark_submit_args = '--jars graphframes-0.8.0-spark3.0-s_2.12.jar pyspark-shell'\n",
    "\n",
    "os.environ[\"PYSPARK_SUBMIT_ARGS\"] = pyspark_submit_args\n",
    "import findspark\n",
    "findspark.init()\n",
    "findspark.find()\n",
    "import pyspark\n",
    "conf = pyspark.SparkConf()\n",
    "sc = pyspark.SparkContext(conf=conf)\n",
    "\n",
    "# from pyspark import *\n"
   ]
  },
  {
   "cell_type": "code",
   "execution_count": 2,
   "metadata": {},
   "outputs": [],
   "source": [
    "from pyspark import *\n",
    "from pyspark.sql import *\n",
    "from graphframes import *\n",
    "sparkSession = SparkSession.builder.appName('A4').master('local').getOrCreate()\n",
    "# spark = SparkSession.builder.appName('BDA_A2').master('local').getOrCreate()"
   ]
  },
  {
   "cell_type": "code",
   "execution_count": 3,
   "metadata": {},
   "outputs": [],
   "source": [
    "dataset = open('soc-Epinions1.txt', 'r')\n",
    "lines = dataset.readlines()\n",
    "lines = lines[4:] # skipping the comments in file"
   ]
  },
  {
   "cell_type": "code",
   "execution_count": 4,
   "metadata": {},
   "outputs": [],
   "source": [
    "vertices = set()\n",
    "edges = []\n",
    "for line in lines:\n",
    "    source, dest = line.split()\n",
    "    vertices.add((source,))\n",
    "    vertices.add((dest,))\n",
    "    edges.append((source, dest))\n",
    "#     print(source, dest)\n",
    "#     break\n",
    "vertices = list(vertices)"
   ]
  },
  {
   "cell_type": "code",
   "execution_count": 5,
   "metadata": {},
   "outputs": [],
   "source": [
    "vertices_df = sparkSession.createDataFrame(vertices, [\"id\"])\n",
    "edges_df = sparkSession.createDataFrame(edges, [\"src\", \"dst\"])"
   ]
  },
  {
   "cell_type": "code",
   "execution_count": 6,
   "metadata": {},
   "outputs": [],
   "source": [
    "graph = GraphFrame(vertices_df, edges_df)"
   ]
  },
  {
   "cell_type": "code",
   "execution_count": 8,
   "metadata": {},
   "outputs": [
    {
     "name": "stderr",
     "output_type": "stream",
     "text": [
      "Error: Could not create the Java Virtual Machine.\n",
      "Error: A fatal exception has occurred. Program will exit.\n",
      "Unrecognized option: --version\n"
     ]
    }
   ],
   "source": [
    "!java --version"
   ]
  },
  {
   "cell_type": "code",
   "execution_count": 7,
   "metadata": {},
   "outputs": [
    {
     "name": "stdout",
     "output_type": "stream",
     "text": [
      "+----+--------+\n",
      "|  id|inDegree|\n",
      "+----+--------+\n",
      "|1572|     180|\n",
      "|2069|      51|\n",
      "| 296|     121|\n",
      "|1512|     131|\n",
      "|2904|      53|\n",
      "|3414|      16|\n",
      "| 829|      63|\n",
      "| 675|      33|\n",
      "|2088|      80|\n",
      "|2162|      61|\n",
      "|4032|      17|\n",
      "|2294|      56|\n",
      "|6613|      59|\n",
      "|6731|       8|\n",
      "|1436|     181|\n",
      "| 691|      47|\n",
      "|9009|      34|\n",
      "|3210|      34|\n",
      "|9586|       1|\n",
      "|9993|       2|\n",
      "+----+--------+\n",
      "only showing top 20 rows\n",
      "\n"
     ]
    }
   ],
   "source": [
    "graph.inDegrees.show()\n"
   ]
  },
  {
   "cell_type": "code",
   "execution_count": 8,
   "metadata": {},
   "outputs": [
    {
     "name": "stdout",
     "output_type": "stream",
     "text": [
      "+-----+--------------------+\n",
      "|   id|            pagerank|\n",
      "+-----+--------------------+\n",
      "| 1512|  12.508899597085353|\n",
      "|15555| 0.18978529864538907|\n",
      "|25350| 0.03738384133807942|\n",
      "|62049|  0.1249325425694327|\n",
      "|15553|0.018785849918632875|\n",
      "|61959|0.018785849918632875|\n",
      "|20598| 0.06861505602659947|\n",
      "|18607| 0.05554855694255348|\n",
      "|19857|  0.4776621757923465|\n",
      "|66760|0.051194122772870894|\n",
      "|19214|  0.2684134323282874|\n",
      "|61683| 0.02034297723847981|\n",
      "|22158| 0.09177372448479623|\n",
      "|30139|0.041249555916683785|\n",
      "| 6621|    9.14650320024795|\n",
      "|39229|0.031231704259950383|\n",
      "|72280|0.018785849918632875|\n",
      "|10752|0.018785849918632875|\n",
      "|47797| 0.05401824453325393|\n",
      "|64349|0.018785849918632875|\n",
      "+-----+--------------------+\n",
      "only showing top 20 rows\n",
      "\n"
     ]
    }
   ],
   "source": [
    "results = graph.pageRank(resetProbability=0.01, maxIter=20)\n",
    "results.vertices.select(\"id\", \"pagerank\").show()"
   ]
  },
  {
   "cell_type": "code",
   "execution_count": 10,
   "metadata": {},
   "outputs": [
    {
     "name": "stdout",
     "output_type": "stream",
     "text": [
      "+----+------------------+\n",
      "|  id|          pagerank|\n",
      "+----+------------------+\n",
      "|  18| 389.0755717978781|\n",
      "| 737| 353.5986771882279|\n",
      "|  40|231.13967020425335|\n",
      "| 118| 220.2080639465201|\n",
      "| 401|196.23701565826522|\n",
      "| 725|191.20265292318467|\n",
      "| 849|185.00521931960506|\n",
      "| 136|180.81574692246252|\n",
      "|1719| 180.8121138696468|\n",
      "| 550| 177.6022990644351|\n",
      "|  27|176.02101108314434|\n",
      "| 143|175.17242401681244|\n",
      "| 135|169.42449507211097|\n",
      "|  34| 168.4580134620654|\n",
      "|  77|164.23336900189565|\n",
      "|1401|164.07834311005158|\n",
      "|1247|162.10827082315183|\n",
      "|2227| 158.5934727034573|\n",
      "| 918|157.46705975143288|\n",
      "|1191| 156.6757947112163|\n",
      "+----+------------------+\n",
      "only showing top 20 rows\n",
      "\n"
     ]
    }
   ],
   "source": [
    "results.vertices.sort('pagerank' , ascending=False).show()"
   ]
  },
  {
   "cell_type": "code",
   "execution_count": null,
   "metadata": {},
   "outputs": [],
   "source": []
  }
 ],
 "metadata": {
  "kernelspec": {
   "display_name": "Python 3",
   "language": "python",
   "name": "python3"
  },
  "language_info": {
   "codemirror_mode": {
    "name": "ipython",
    "version": 3
   },
   "file_extension": ".py",
   "mimetype": "text/x-python",
   "name": "python",
   "nbconvert_exporter": "python",
   "pygments_lexer": "ipython3",
   "version": "3.7.3"
  }
 },
 "nbformat": 4,
 "nbformat_minor": 2
}
