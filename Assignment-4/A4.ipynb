{
 "cells": [
  {
   "cell_type": "code",
   "execution_count": 1,
   "metadata": {},
   "outputs": [],
   "source": [
    "import os\n",
    "# pyspark --packages graphframes:graphframes:0.3.0-spark2.0-s_2.11 --jars graphframes-0.3.0-spark2.0-s_2.11.jar\n",
    "pyspark_submit_args = '--packages graphframes:graphframes-0.8.0-spark3.0-s_2.12 pyspark-shell'# --jars graphframes-0.8.0-spark3.0-s_2.12.jar'\n",
    "pyspark_submit_args = '--jars graphframes-0.8.0-spark3.0-s_2.12.jar pyspark-shell'\n",
    "\n",
    "os.environ[\"PYSPARK_SUBMIT_ARGS\"] = pyspark_submit_args\n",
    "import findspark\n",
    "findspark.init()\n",
    "findspark.find()\n",
    "import pyspark\n",
    "conf = pyspark.SparkConf()\n",
    "sc = pyspark.SparkContext(conf=conf)\n",
    "\n",
    "# from pyspark import *\n"
   ]
  },
  {
   "cell_type": "code",
   "execution_count": 3,
   "metadata": {},
   "outputs": [],
   "source": [
    "from pyspark import *\n",
    "from pyspark.sql import *\n",
    "from graphframes import *\n",
    "sparkSession = SparkSession.builder.appName('A4').master('local').getOrCreate()\n",
    "# spark = SparkSession.builder.appName('BDA_A2').master('local').getOrCreate()"
   ]
  },
  {
   "cell_type": "code",
   "execution_count": 4,
   "metadata": {},
   "outputs": [],
   "source": [
    "dataset = open('soc-Epinions1.txt', 'r')\n",
    "lines = dataset.readlines()\n",
    "lines = lines[4:] # skipping the comments in file"
   ]
  },
  {
   "cell_type": "code",
   "execution_count": 5,
   "metadata": {},
   "outputs": [],
   "source": [
    "vertices = set()\n",
    "edges = []\n",
    "for line in lines:\n",
    "    source, dest = line.split()\n",
    "    vertices.add((source,))\n",
    "    vertices.add((dest,))\n",
    "    edges.append((source, dest))\n",
    "#     print(source, dest)\n",
    "#     break\n",
    "vertices = list(vertices)"
   ]
  },
  {
   "cell_type": "code",
   "execution_count": 6,
   "metadata": {},
   "outputs": [],
   "source": [
    "vertices_df = sparkSession.createDataFrame(vertices, [\"id\"])\n",
    "edges_df = sparkSession.createDataFrame(edges, [\"src\", \"dst\"])"
   ]
  },
  {
   "cell_type": "code",
   "execution_count": 7,
   "metadata": {},
   "outputs": [],
   "source": [
    "graph = GraphFrame(vertices_df, edges_df)"
   ]
  },
  {
   "cell_type": "code",
   "execution_count": 8,
   "metadata": {},
   "outputs": [
    {
     "name": "stderr",
     "output_type": "stream",
     "text": [
      "Error: Could not create the Java Virtual Machine.\n",
      "Error: A fatal exception has occurred. Program will exit.\n",
      "Unrecognized option: --version\n"
     ]
    }
   ],
   "source": [
    "!java --version"
   ]
  },
  {
   "cell_type": "code",
   "execution_count": null,
   "metadata": {},
   "outputs": [],
   "source": []
  }
 ],
 "metadata": {
  "kernelspec": {
   "display_name": "Python 3",
   "language": "python",
   "name": "python3"
  },
  "language_info": {
   "codemirror_mode": {
    "name": "ipython",
    "version": 3
   },
   "file_extension": ".py",
   "mimetype": "text/x-python",
   "name": "python",
   "nbconvert_exporter": "python",
   "pygments_lexer": "ipython3",
   "version": "3.7.3"
  }
 },
 "nbformat": 4,
 "nbformat_minor": 2
}
