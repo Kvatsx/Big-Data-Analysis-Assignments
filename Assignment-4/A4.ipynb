{
 "cells": [
  {
   "cell_type": "code",
   "execution_count": 1,
   "metadata": {},
   "outputs": [],
   "source": [
    "import os\n",
    "# pyspark --packages graphframes:graphframes:0.3.0-spark2.0-s_2.11 --jars graphframes-0.3.0-spark2.0-s_2.11.jar\n",
    "pyspark_submit_args = '--packages graphframes:graphframes-0.8.0-spark3.0-s_2.12 pyspark-shell'# --jars graphframes-0.8.0-spark3.0-s_2.12.jar'\n",
    "pyspark_submit_args = '--jars graphframes-0.8.0-spark3.0-s_2.12.jar pyspark-shell'\n",
    "\n",
    "os.environ[\"PYSPARK_SUBMIT_ARGS\"] = pyspark_submit_args\n",
    "import findspark\n",
    "findspark.init()\n",
    "findspark.find()\n",
    "import pyspark\n",
    "conf = pyspark.SparkConf()\n",
    "sc = pyspark.SparkContext(conf=conf)\n",
    "\n",
    "# from pyspark import *\n"
   ]
  },
  {
   "cell_type": "code",
   "execution_count": 2,
   "metadata": {},
   "outputs": [],
   "source": [
    "from pyspark import *\n",
    "from pyspark.sql import *\n",
    "from graphframes import *\n",
    "sparkSession = SparkSession.builder.appName('A4').master('local').getOrCreate()\n",
    "# spark = SparkSession.builder.appName('BDA_A2').master('local').getOrCreate()"
   ]
  },
  {
   "cell_type": "code",
   "execution_count": 3,
   "metadata": {},
   "outputs": [],
   "source": [
    "dataset = open('soc-Epinions1.txt', 'r')\n",
    "lines = dataset.readlines()\n",
    "lines = lines[4:] # skipping the comments in file"
   ]
  },
  {
   "cell_type": "code",
   "execution_count": 4,
   "metadata": {},
   "outputs": [],
   "source": [
    "vertices = set()\n",
    "edges = []\n",
    "for line in lines:\n",
    "    source, dest = line.split()\n",
    "    vertices.add((source,))\n",
    "    vertices.add((dest,))\n",
    "    edges.append((source, dest))\n",
    "#     print(source, dest)\n",
    "#     break\n",
    "vertices = list(vertices)"
   ]
  },
  {
   "cell_type": "code",
   "execution_count": 5,
   "metadata": {},
   "outputs": [],
   "source": [
    "vertices_df = sparkSession.createDataFrame(vertices, [\"id\"])\n",
    "edges_df = sparkSession.createDataFrame(edges, [\"src\", \"dst\"])"
   ]
  },
  {
   "cell_type": "code",
   "execution_count": 6,
   "metadata": {},
   "outputs": [],
   "source": [
    "graph = GraphFrame(vertices_df, edges_df)"
   ]
  },
  {
   "cell_type": "code",
   "execution_count": 8,
   "metadata": {},
   "outputs": [
    {
     "name": "stdout",
     "output_type": "stream",
     "text": [
      "+----+--------+\n",
      "|  id|inDegree|\n",
      "+----+--------+\n",
      "|1572|     180|\n",
      "|2069|      51|\n",
      "| 296|     121|\n",
      "|1512|     131|\n",
      "|2904|      53|\n",
      "|3414|      16|\n",
      "| 829|      63|\n",
      "| 675|      33|\n",
      "|2088|      80|\n",
      "|2162|      61|\n",
      "|4032|      17|\n",
      "|2294|      56|\n",
      "|6613|      59|\n",
      "|6731|       8|\n",
      "|1436|     181|\n",
      "| 691|      47|\n",
      "|9009|      34|\n",
      "|3210|      34|\n",
      "|9586|       1|\n",
      "|9993|       2|\n",
      "+----+--------+\n",
      "only showing top 20 rows\n",
      "\n"
     ]
    }
   ],
   "source": [
    "graph.inDegrees.show()\n",
    "alpha = 0.8"
   ]
  },
  {
   "cell_type": "code",
   "execution_count": 11,
   "metadata": {},
   "outputs": [
    {
     "name": "stdout",
     "output_type": "stream",
     "text": [
      "+----+------------------+\n",
      "|  id|          pagerank|\n",
      "+----+------------------+\n",
      "|  18| 325.8853046489408|\n",
      "| 737|212.66576555045725|\n",
      "|1719|147.22687135149997|\n",
      "| 118| 145.0670191471319|\n",
      "| 790|142.33446484041733|\n",
      "+----+------------------+\n",
      "only showing top 5 rows\n",
      "\n"
     ]
    }
   ],
   "source": [
    "results = graph.pageRank(resetProbability=1-alpha, maxIter=20)\n",
    "results.vertices.sort('pagerank' , ascending=False).show(5)"
   ]
  },
  {
   "cell_type": "code",
   "execution_count": 12,
   "metadata": {},
   "outputs": [],
   "source": [
    "# https://graphframes.github.io/graphframes/docs/_site/api/python/graphframes.html#graphframes.GraphFrame.parallelPersonalizedPageRank\n",
    "results2 = graph.pageRank(resetProbability=1-alpha, maxIter=20, sourceId=\"18\")\n"
   ]
  },
  {
   "cell_type": "code",
   "execution_count": 13,
   "metadata": {},
   "outputs": [
    {
     "name": "stdout",
     "output_type": "stream",
     "text": [
      "+----+--------------------+\n",
      "|  id|            pagerank|\n",
      "+----+--------------------+\n",
      "|  18|  0.2140906165799031|\n",
      "| 118|0.006807206592250927|\n",
      "| 790|0.006075429899075041|\n",
      "| 136|0.005978881253253703|\n",
      "|1191|0.005723130330628861|\n",
      "+----+--------------------+\n",
      "only showing top 5 rows\n",
      "\n"
     ]
    }
   ],
   "source": [
    "results2.vertices.sort('pagerank' , ascending=False).show(5)"
   ]
  },
  {
   "cell_type": "code",
   "execution_count": null,
   "metadata": {},
   "outputs": [],
   "source": []
  }
 ],
 "metadata": {
  "kernelspec": {
   "display_name": "Python 3",
   "language": "python",
   "name": "python3"
  },
  "language_info": {
   "codemirror_mode": {
    "name": "ipython",
    "version": 3
   },
   "file_extension": ".py",
   "mimetype": "text/x-python",
   "name": "python",
   "nbconvert_exporter": "python",
   "pygments_lexer": "ipython3",
   "version": "3.7.3"
  }
 },
 "nbformat": 4,
 "nbformat_minor": 2
}
